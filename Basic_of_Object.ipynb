{
 "cells": [
  {
   "cell_type": "code",
   "execution_count": null,
   "id": "be0b2a28",
   "metadata": {},
   "outputs": [],
   "source": [
    "def hello():\n",
    "      print(\"say hello\")\n",
    "        \n",
    "hi = hello()\n",
    "\n",
    "\n",
    "# print(hi())\n",
    "\n",
    "print(hello())\n"
   ]
  },
  {
   "cell_type": "code",
   "execution_count": null,
   "id": "19a15211",
   "metadata": {},
   "outputs": [],
   "source": [
    "values = [(x,y) for x in range(5) for y in range(3)]\n",
    "print('before append',values)\n",
    "\n",
    "values = []\n",
    "print('before append',values)\n",
    "\n",
    "for x in range(5):\n",
    "    for y in range(3):\n",
    "        values.append((x,y))\n",
    "        \n",
    "print('After append',values)"
   ]
  },
  {
   "cell_type": "code",
   "execution_count": null,
   "id": "48e8d9e9",
   "metadata": {},
   "outputs": [],
   "source": [
    "values = [[y*3 for y in range(x)] for x in range(10)]\n",
    "print('Initial append',values)\n",
    "\n",
    "\n",
    "values = []\n",
    "print('before append',values)\n",
    "\n",
    "for x in range(10):\n",
    "    inner = []\n",
    "    for y in range(x):\n",
    "        inner.append(y*3)\n",
    "    values.append(inner)\n",
    "    \n",
    "print('After append',values)"
   ]
  },
  {
   "cell_type": "code",
   "execution_count": null,
   "id": "b05d4ac3",
   "metadata": {},
   "outputs": [],
   "source": [
    "def hyperVolume(*lengths):\n",
    "    i = iter(lengths)\n",
    "    print('i=',i)\n",
    "    v = next(i)\n",
    "    print(\"before loop\", v)\n",
    "    for length in i:\n",
    "        print('length in loop', length)\n",
    "        v *= length\n",
    "        print('v in loop', v)\n",
    "    return v\n",
    "\n",
    "print(hyperVolume(1, 2, 3, 4, 5))"
   ]
  },
  {
   "cell_type": "code",
   "execution_count": null,
   "id": "3f88ba3c",
   "metadata": {},
   "outputs": [],
   "source": [
    "t = (1, 2, 3, 4, 5)\n",
    "\n",
    "def print_args(arg1, arg2, *args):\n",
    "    print(arg1)\n",
    "    print(arg2)\n",
    "    print(args)\n",
    "\n",
    "print_args(*t)\n",
    "# print_args(t,t,*t)"
   ]
  },
  {
   "cell_type": "code",
   "execution_count": null,
   "id": "6a19dbd4",
   "metadata": {},
   "outputs": [],
   "source": [
    "def outer():\n",
    "    def inner():\n",
    "        print('inner')\n",
    "    return inner\n",
    "\n",
    "I = outer()\n",
    "I()\n",
    "\n",
    "# print(I)"
   ]
  },
  {
   "cell_type": "code",
   "execution_count": null,
   "id": "5459d670",
   "metadata": {},
   "outputs": [],
   "source": [
    "def outer(x):\n",
    "    def inner(y):\n",
    "        return x+y\n",
    "    return inner\n",
    "\n",
    "add_plus3= outer(3)\n",
    "\n",
    "add_plus3(2)"
   ]
  },
  {
   "cell_type": "code",
   "execution_count": null,
   "id": "2dc96fc2",
   "metadata": {},
   "outputs": [],
   "source": [
    "def convert_upper(f):\n",
    "    print(\"convert_upper\")\n",
    "    def wrap(*args, **kwargs):\n",
    "        print(\"wrap\")\n",
    "        x = f(*args, **kwargs)\n",
    "        return x.upper()\n",
    "    return wrap\n",
    "\n",
    "\n",
    "\n",
    "@convert_upper\n",
    "def my_name(name):\n",
    "    print(\"my_name\")\n",
    "    return name\n",
    "\n",
    "name2 = my_name('vikas')\n",
    "print(name2)"
   ]
  },
  {
   "cell_type": "code",
   "execution_count": null,
   "id": "d184bf54",
   "metadata": {},
   "outputs": [],
   "source": [
    "\n",
    "# A simple generator function\n",
    "def my_gen():\n",
    "    n = 1\n",
    "    print('This is printed first')\n",
    "    # Generator function contains yield statements\n",
    "    yield n\n",
    "\n",
    "    n += 1\n",
    "    print('This is printed second')\n",
    "    yield n\n",
    "\n",
    "    n += 1\n",
    "    print('This is printed at last')\n",
    "    yield n\n",
    "\n",
    "# Using for loop\n",
    "for item in my_gen():\n",
    "    print(item) "
   ]
  },
  {
   "cell_type": "code",
   "execution_count": 1,
   "id": "90b8fa8c",
   "metadata": {},
   "outputs": [
    {
     "name": "stdout",
     "output_type": "stream",
     "text": [
      "Num 1: 1\n",
      "Num 2: 2\n",
      "> \u001b[1;32mc:\\users\\223076925\\appdata\\local\\temp\\ipykernel_23144\\1494290848.py\u001b[0m(11)\u001b[0;36m<module>\u001b[1;34m()\u001b[0m\n",
      "\n",
      "ipdb> z\n",
      "*** NameError: name 'z' is not defined\n",
      "ipdb> n\n",
      "> \u001b[1;32mc:\\users\\223076925\\appdata\\local\\temp\\ipykernel_23144\\1494290848.py\u001b[0m(12)\u001b[0;36m<module>\u001b[1;34m()\u001b[0m\n",
      "\n",
      "ipdb> z\n",
      "3\n",
      "ipdb> q\n"
     ]
    }
   ],
   "source": [
    "import pdb\n",
    "\n",
    "def add(x,y):\n",
    "    sum = x + y\n",
    "    return sum\n",
    "\n",
    "if __name__== \"__main__\":\n",
    "    x = int(input(\"Num 1: \"))\n",
    "    y = int(input(\"Num 2: \"))\n",
    "    pdb.set_trace()\n",
    "    z = add(x,y)\n",
    "    print(z)"
   ]
  },
  {
   "cell_type": "code",
   "execution_count": null,
   "id": "7b511208",
   "metadata": {},
   "outputs": [],
   "source": []
  }
 ],
 "metadata": {
  "kernelspec": {
   "display_name": "Python 3 (ipykernel)",
   "language": "python",
   "name": "python3"
  },
  "language_info": {
   "codemirror_mode": {
    "name": "ipython",
    "version": 3
   },
   "file_extension": ".py",
   "mimetype": "text/x-python",
   "name": "python",
   "nbconvert_exporter": "python",
   "pygments_lexer": "ipython3",
   "version": "3.8.10"
  }
 },
 "nbformat": 4,
 "nbformat_minor": 5
}
